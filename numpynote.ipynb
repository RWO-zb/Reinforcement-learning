{
 "cells": [
  {
   "cell_type": "code",
   "execution_count": null,
   "id": "f4f2f5e6",
   "metadata": {},
   "outputs": [
    {
     "data": {
      "text/plain": [
       "([1, 2, 3],\n",
       " array([0, 1, 2]),\n",
       " array([ 6.95245671e-310,  1.02268151e-311, -0.00000000e+000]),\n",
       " array([0., 0., 0.]),\n",
       " array([1., 1., 1.]))"
      ]
     },
     "execution_count": 14,
     "metadata": {},
     "output_type": "execute_result"
    }
   ],
   "source": [
    "import numpy as np#np对象的创建\n",
    "a=[1,2,3]\n",
    "a=np.array=(a)\n",
    "b=np.arange(3)#生成等间隔的\n",
    "c=np.empty(3)#生成未初始化的\n",
    "d=np.zeros(3)#生成用0填充的\n",
    "e=np.ones(3)#生成用1填充的\n",
    "\"\"\"\n",
    "np.array(object, dtype = None, copy = True, order = None, subok = False, ndmin = 0)\n",
    "dtype:数据类型\n",
    "ndmin:最小维度\n",
    "\"\"\" \n",
    "\"\"\"\n",
    "numpy.arange(start, stop, step, dtype)\n",
    "start:默认为0\n",
    "stop:终止范围不包括\n",
    "step:步长默认为1\n",
    "dtype:数据类型\n",
    "\"\"\"\n",
    "a,b,c,d,e "
   ]
  },
  {
   "cell_type": "code",
   "execution_count": null,
   "id": "21765e18",
   "metadata": {},
   "outputs": [
    {
     "name": "stdout",
     "output_type": "stream",
     "text": [
      "(2, 3)\n"
     ]
    },
    {
     "data": {
      "text/plain": [
       "array([[1, 2],\n",
       "       [3, 4],\n",
       "       [5, 6]])"
      ]
     },
     "execution_count": 4,
     "metadata": {},
     "output_type": "execute_result"
    }
   ],
   "source": [
    "import numpy as np\n",
    "a= np.array([[1,2,3],[4,5,6]])  \n",
    "print(a.shape)#数组维度\n",
    "a= np.array([[1,2,3],[4,5,6]]) \n",
    "a.shape=(3,2)#调整维度\n"
   ]
  },
  {
   "cell_type": "code",
   "execution_count": 1,
   "id": "0fa29067",
   "metadata": {},
   "outputs": [
    {
     "data": {
      "text/plain": [
       "(array([0.42815619, 1.13786456, 0.98588407, 3.32445911, 2.43683337,\n",
       "        4.82372069, 2.26053595, 0.48909483, 2.28291526, 4.4188979 ]),\n",
       " array([0.96406907, 0.93358533, 0.47988718, 0.02940523, 0.40138002,\n",
       "        0.22636351, 0.84254487, 0.35879508, 0.6122585 , 0.84519227]),\n",
       " array([-1.22456219,  0.39259563,  0.0503079 , -0.42175888,  0.35259076,\n",
       "        -1.42330247, -0.95946237,  0.02303746, -0.44394152, -0.95866591]),\n",
       " 3)"
      ]
     },
     "execution_count": 1,
     "metadata": {},
     "output_type": "execute_result"
    }
   ],
   "source": [
    "import numpy as np#随机数生成\n",
    "array1=np.random.uniform(low=0,high=5,size=10)#5 个 [5.0, 10.0) 的随机数,均匀分布\n",
    "array2=np.random.rand(10)#快速生成随机数\n",
    "array3=np.random.randn(10)#正态分布\n",
    "array4=np.random.randint(0,9)#离散分布\n",
    "array1,array2 ,array3, array4"
   ]
  },
  {
   "cell_type": "code",
   "execution_count": null,
   "id": "05489a31",
   "metadata": {},
   "outputs": [
    {
     "data": {
      "text/plain": [
       "(3.0, 5, 15)"
      ]
     },
     "execution_count": 13,
     "metadata": {},
     "output_type": "execute_result"
    }
   ],
   "source": [
    "import numpy as np#算术处理\n",
    "data=[1,2,3,4,5]\n",
    "avg=np.mean(data)#计算平均值\n",
    "a=max(data)#计算最大值\n",
    "b=sum(data)#求和\n",
    "avg,a,b"
   ]
  }
 ],
 "metadata": {
  "kernelspec": {
   "display_name": "rl",
   "language": "python",
   "name": "python3"
  },
  "language_info": {
   "codemirror_mode": {
    "name": "ipython",
    "version": 3
   },
   "file_extension": ".py",
   "mimetype": "text/x-python",
   "name": "python",
   "nbconvert_exporter": "python",
   "pygments_lexer": "ipython3",
   "version": "3.9.21"
  }
 },
 "nbformat": 4,
 "nbformat_minor": 5
}
