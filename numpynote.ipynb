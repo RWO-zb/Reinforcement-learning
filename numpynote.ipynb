{
 "cells": [
  {
   "cell_type": "code",
   "execution_count": null,
   "id": "0fa29067",
   "metadata": {},
   "outputs": [
    {
     "data": {
      "text/plain": [
       "(array([1.95381615, 2.10686682, 1.85244682, 1.86663136, 4.93524321,\n",
       "        0.63878898, 0.76438402, 4.3831204 , 2.04540057, 3.39472896]),\n",
       " array([0.57956273, 0.80421356, 0.39170386, 0.74817834, 0.09124081,\n",
       "        0.63602654, 0.58722288, 0.3452939 , 0.53972796, 0.49270738]),\n",
       " array([-1.16600987,  0.71316935, -1.52760635, -0.80628975, -0.09518218,\n",
       "         1.3530078 ,  2.45620657,  1.73802227,  0.2732865 , -0.64647366]),\n",
       " 2)"
      ]
     },
     "execution_count": 8,
     "metadata": {},
     "output_type": "execute_result"
    }
   ],
   "source": [
    "import numpy as np#随机数生成\n",
    "array1=np.random.uniform(low=0,high=5,size=10)#5 个 [5.0, 10.0) 的随机数,均匀分布\n",
    "array2=np.random.rand(10)#快速生成随机数\n",
    "array3=np.random.randn(10)#正态分布\n",
    "array4=np.random.randint(0,9)#离散分布\n",
    "array1,array2 ,array3, array4"
   ]
  },
  {
   "cell_type": "code",
   "execution_count": null,
   "id": "05489a31",
   "metadata": {},
   "outputs": [
    {
     "data": {
      "text/plain": [
       "(3.0, 5, 15)"
      ]
     },
     "execution_count": 13,
     "metadata": {},
     "output_type": "execute_result"
    }
   ],
   "source": [
    "import numpy as np#算术处理\n",
    "data=[1,2,3,4,5]\n",
    "avg=np.mean(data)#计算平均值\n",
    "a=max(data)#计算最大值\n",
    "b=sum(data)#求和\n",
    "avg,a,b"
   ]
  },
  {
   "cell_type": "code",
   "execution_count": null,
   "id": "6bdca722",
   "metadata": {},
   "outputs": [],
   "source": []
  }
 ],
 "metadata": {
  "kernelspec": {
   "display_name": "rl",
   "language": "python",
   "name": "python3"
  },
  "language_info": {
   "codemirror_mode": {
    "name": "ipython",
    "version": 3
   },
   "file_extension": ".py",
   "mimetype": "text/x-python",
   "name": "python",
   "nbconvert_exporter": "python",
   "pygments_lexer": "ipython3",
   "version": "3.9.21"
  }
 },
 "nbformat": 4,
 "nbformat_minor": 5
}
